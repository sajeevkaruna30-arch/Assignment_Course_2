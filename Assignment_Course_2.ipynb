{
 "cells": [
  {
   "cell_type": "markdown",
   "id": "c4ff55d0",
   "metadata": {},
   "source": [
    "# Data Science Tools and Ecosystem"
   ]
  },
  {
   "cell_type": "markdown",
   "id": "ca6349f2",
   "metadata": {},
   "source": [
    "In this notebook, we explore various data science tools, languages, and ecosystems that are essential for data scientists and analysts."
   ]
  },
  {
   "cell_type": "markdown",
   "id": "5bcbfb10",
   "metadata": {},
   "source": [
    "## Popular Data Science Languages\n",
    "- Python\n",
    "- R\n",
    "- SQL\n",
    "- Julia\n",
    "- Scala\n",
    "- Java"
   ]
  },
  {
   "cell_type": "markdown",
   "id": "d4a30601",
   "metadata": {},
   "source": [
    "## Commonly Used Data Science Libraries\n",
    "- Pandas (Python)\n",
    "- NumPy (Python)\n",
    "- Scikit-learn (Python)\n",
    "- TensorFlow (Python)\n",
    "- PyTorch (Python)\n",
    "- ggplot2 (R)\n",
    "- dplyr (R)\n",
    "- caret (R)"
   ]
  },
  {
   "cell_type": "markdown",
   "id": "035588a1",
   "metadata": {},
   "source": [
    "## Data Science Tools\n",
    "| Tool | Category | Purpose |\n",
    "|------|----------|---------|\n",
    "| Jupyter | Development | Interactive computing |\n",
    "| RStudio | Development | R programming IDE |\n",
    "| VS Code | Development | Code editor |\n",
    "| Git | Version Control | Source code management |\n",
    "| Apache Spark | Big Data | Distributed computing |\n",
    "| Tableau | Visualization | Data visualization |\n",
    "| TensorFlow | ML Framework | Deep learning |"
   ]
  },
  {
   "cell_type": "markdown",
   "id": "1da3e43e",
   "metadata": {},
   "source": [
    "## Arithmetic Expression Examples\n",
    "Below are a few examples of evaluating arithmetic expressions in Python:\n",
    "- Addition: `5 + 3`\n",
    "- Multiplication: `4 * 2`\n",
    "- Division: `10 / 2`\n",
    "- Exponentiation: `2 ** 3`"
   ]
  },
  {
   "cell_type": "code",
   "execution_count": 3,
   "id": "a689a97b",
   "metadata": {},
   "outputs": [
    {
     "name": "stdout",
     "output_type": "stream",
     "text": [
      "The result of (3 * 4) + 5 is: 17\n"
     ]
    }
   ],
   "source": [
    "# This is a simple arithmetic expression to multiply then add integers\n",
    "result = (3 * 4) + 5\n",
    "print(f\"The result of (3 * 4) + 5 is: {result}\")"
   ]
  },
  {
   "cell_type": "code",
   "execution_count": 4,
   "id": "9e37c31b",
   "metadata": {},
   "outputs": [
    {
     "name": "stdout",
     "output_type": "stream",
     "text": [
      "200 minutes is equal to 3.33 hours\n"
     ]
    }
   ],
   "source": [
    "# This will convert 200 minutes to hours by dividing by 60\n",
    "minutes = 200\n",
    "hours = minutes / 60\n",
    "print(f\"{minutes} minutes is equal to {hours:.2f} hours\")"
   ]
  },
  {
   "cell_type": "markdown",
   "id": "c6f83085",
   "metadata": {},
   "source": [
    "## Objectives\n",
    "- List popular data science languages\n",
    "- Identify commonly used data science libraries\n",
    "- Create tables of data science tools\n",
    "- Demonstrate basic arithmetic operations in Python\n",
    "- Convert units (minutes to hours)\n",
    "- Share notebooks via GitHub"
   ]
  },
  {
   "cell_type": "markdown",
   "id": "f1fa8a6f",
   "metadata": {},
   "source": [
    "## Author\n",
    "Sajeev Karunakaran"
   ]
  }
 ],
 "metadata": {
  "kernelspec": {
   "display_name": "Python 3 (ipykernel)",
   "language": "python",
   "name": "python3"
  },
  "language_info": {
   "codemirror_mode": {
    "name": "ipython",
    "version": 3
   },
   "file_extension": ".py",
   "mimetype": "text/x-python",
   "name": "python",
   "nbconvert_exporter": "python",
   "pygments_lexer": "ipython3",
   "version": "3.10.9"
  }
 },
 "nbformat": 4,
 "nbformat_minor": 5
}
